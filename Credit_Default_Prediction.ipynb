{
  "nbformat": 4,
  "nbformat_minor": 0,
  "metadata": {
    "colab": {
      "provenance": [],
      "include_colab_link": true
    },
    "kernelspec": {
      "name": "python3",
      "display_name": "Python 3"
    },
    "language_info": {
      "name": "python"
    }
  },
  "cells": [
    {
      "cell_type": "markdown",
      "metadata": {
        "id": "view-in-github",
        "colab_type": "text"
      },
      "source": [
        "<a href=\"https://colab.research.google.com/github/NayamSyed20/JS/blob/main/Credit_Default_Prediction.ipynb\" target=\"_parent\"><img src=\"https://colab.research.google.com/assets/colab-badge.svg\" alt=\"Open In Colab\"/></a>"
      ]
    },
    {
      "cell_type": "markdown",
      "source": [
        "# **Credit Default Prediction**"
      ],
      "metadata": {
        "id": "I18Jq4byuxJz"
      }
    },
    {
      "cell_type": "markdown",
      "source": [
        "The data set consists of 2000 samples from each of two categories. \n",
        "Five variables are\n",
        "1. Income\t\n",
        "2. Age\t\n",
        "3. Loan\t\n",
        "4. Loan to Income (engineered feature)\n",
        "5. Default\n",
        "\n",
        "Dataset: https://github.com/ybifoundation/Dataset/raw/main/Credit%20Default.csv"
      ],
      "metadata": {
        "id": "aht7je_Au9MN"
      }
    },
    {
      "cell_type": "markdown",
      "source": [
        "# **Q. Classification Predictive Model**"
      ],
      "metadata": {
        "id": "eHmDlDEPy79T"
      }
    },
    {
      "cell_type": "code",
      "source": [
        "# Step 1 : import library\n",
        "import pandas as pd"
      ],
      "metadata": {
        "id": "fVK5A-wQy7WP"
      },
      "execution_count": 1,
      "outputs": []
    },
    {
      "cell_type": "code",
      "source": [
        "# Step 2 : import data\n",
        "default =pd.read_csv('https://github.com/ybifoundation/Dataset/raw/main/Credit%20Default.csv')"
      ],
      "metadata": {
        "id": "MJQPRsu5zDQf"
      },
      "execution_count": 2,
      "outputs": []
    },
    {
      "cell_type": "code",
      "source": [
        "# Step 3 : define y and X"
      ],
      "metadata": {
        "id": "7OxOGZW3zFNp"
      },
      "execution_count": 3,
      "outputs": []
    },
    {
      "cell_type": "code",
      "source": [
        "default.columns"
      ],
      "metadata": {
        "id": "hL57V8aZpLvD",
        "colab": {
          "base_uri": "https://localhost:8080/"
        },
        "outputId": "8b010581-7637-4a3e-a418-577250aad070"
      },
      "execution_count": 4,
      "outputs": [
        {
          "output_type": "execute_result",
          "data": {
            "text/plain": [
              "Index(['Income', 'Age', 'Loan', 'Loan to Income', 'Default'], dtype='object')"
            ]
          },
          "metadata": {},
          "execution_count": 4
        }
      ]
    },
    {
      "cell_type": "code",
      "source": [
        "y = default['Default']"
      ],
      "metadata": {
        "id": "fPrIG1WQpCAK"
      },
      "execution_count": 5,
      "outputs": []
    },
    {
      "cell_type": "code",
      "source": [
        "X = default[['Income', 'Age', 'Loan', 'Loan to Income']]"
      ],
      "metadata": {
        "id": "oc3snudMpCHi"
      },
      "execution_count": 6,
      "outputs": []
    },
    {
      "cell_type": "code",
      "source": [
        "# Step 4 : train test split\n",
        "from sklearn.model_selection import train_test_split\n",
        "X_train, X_test, y_train, y_test = train_test_split(X,y, train_size=0.7, random_state=2529)"
      ],
      "metadata": {
        "id": "IiWfw8UwzFRA"
      },
      "execution_count": 7,
      "outputs": []
    },
    {
      "cell_type": "code",
      "source": [
        "# check shape of train and test sample\n",
        "X_train.shape, X_test.shape, y_train.shape, y_test.shape"
      ],
      "metadata": {
        "colab": {
          "base_uri": "https://localhost:8080/"
        },
        "outputId": "53c1435c-c20e-4433-9d1a-6528de965ff3",
        "id": "KV7ZjtFYpPV3"
      },
      "execution_count": 8,
      "outputs": [
        {
          "output_type": "execute_result",
          "data": {
            "text/plain": [
              "((1400, 4), (600, 4), (1400,), (600,))"
            ]
          },
          "metadata": {},
          "execution_count": 8
        }
      ]
    },
    {
      "cell_type": "code",
      "source": [
        "# Step 5 : select model\n",
        "from sklearn.linear_model import LogisticRegression\n",
        "model = LogisticRegression()"
      ],
      "metadata": {
        "id": "wFrr01gczFUC"
      },
      "execution_count": 9,
      "outputs": []
    },
    {
      "cell_type": "code",
      "source": [
        "# Step 6 : train or fit model\n",
        "model.fit(X_train,y_train)"
      ],
      "metadata": {
        "id": "H_u0yYWwzFXU",
        "colab": {
          "base_uri": "https://localhost:8080/"
        },
        "outputId": "50e285ab-7b92-45bc-b3e2-5ceb5ad2d970"
      },
      "execution_count": 10,
      "outputs": [
        {
          "output_type": "execute_result",
          "data": {
            "text/plain": [
              "LogisticRegression()"
            ]
          },
          "metadata": {},
          "execution_count": 10
        }
      ]
    },
    {
      "cell_type": "code",
      "source": [
        "# Step 7 : predict model\n",
        "y_pred=model.predict(X_test)"
      ],
      "metadata": {
        "id": "vjg625ivzOFF"
      },
      "execution_count": 11,
      "outputs": []
    },
    {
      "cell_type": "code",
      "source": [
        "# Step 8 : model accuracy\n",
        "from sklearn.metrics import accuracy_score, confusion_matrix, classification_report"
      ],
      "metadata": {
        "id": "N9ITvi_JP9WH"
      },
      "execution_count": 12,
      "outputs": []
    },
    {
      "cell_type": "code",
      "source": [
        "accuracy_score(y_test,y_pred)"
      ],
      "metadata": {
        "colab": {
          "base_uri": "https://localhost:8080/"
        },
        "id": "adEuEvpdP9WI",
        "outputId": "476309f2-6c26-4669-e0e8-8018a41c6595"
      },
      "execution_count": 13,
      "outputs": [
        {
          "output_type": "execute_result",
          "data": {
            "text/plain": [
              "0.95"
            ]
          },
          "metadata": {},
          "execution_count": 13
        }
      ]
    },
    {
      "cell_type": "code",
      "source": [
        "confusion_matrix(y_test,y_pred)"
      ],
      "metadata": {
        "colab": {
          "base_uri": "https://localhost:8080/"
        },
        "id": "sp5vCKLjQGV7",
        "outputId": "6b30fe8d-5704-42d2-ff75-ee9092ed2889"
      },
      "execution_count": 14,
      "outputs": [
        {
          "output_type": "execute_result",
          "data": {
            "text/plain": [
              "array([[506,  13],\n",
              "       [ 17,  64]])"
            ]
          },
          "metadata": {},
          "execution_count": 14
        }
      ]
    },
    {
      "cell_type": "code",
      "source": [
        "print(classification_report(y_test,y_pred))"
      ],
      "metadata": {
        "colab": {
          "base_uri": "https://localhost:8080/"
        },
        "id": "Xhzyip3-QGbY",
        "outputId": "6a090306-ca62-47cc-dd41-c37d1bfdbaaa"
      },
      "execution_count": 15,
      "outputs": [
        {
          "output_type": "stream",
          "name": "stdout",
          "text": [
            "              precision    recall  f1-score   support\n",
            "\n",
            "           0       0.97      0.97      0.97       519\n",
            "           1       0.83      0.79      0.81        81\n",
            "\n",
            "    accuracy                           0.95       600\n",
            "   macro avg       0.90      0.88      0.89       600\n",
            "weighted avg       0.95      0.95      0.95       600\n",
            "\n"
          ]
        }
      ]
    },
    {
      "cell_type": "code",
      "source": [],
      "metadata": {
        "id": "D61XetCMbkBN"
      },
      "execution_count": null,
      "outputs": []
    }
  ]
}